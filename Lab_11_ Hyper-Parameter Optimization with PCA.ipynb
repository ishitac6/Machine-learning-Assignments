{
 "cells": [
  {
   "cell_type": "markdown",
   "metadata": {},
   "source": [
    "# Lab:  Hyper-Parameter Optimization with PCA\n",
    "\n",
    "PCA is often applied as a pre-processing step with classifiers.  When using PCA in this manner, one must select the number of PC components to use along with parameters in classifier.  In this lab, we will demonstrate how to performing this *hyper-parameter optimization*.  In doing the lab, you will learn to:\n",
    "\n",
    "* Combine PCA with data scaling.\n",
    "* Compute and visualize PC components\n",
    "* Select the number of PCs with K-fold cross validation\n",
    "* Implement the multi-stage classifier pipeline in sklearn\n",
    "* Perform automatic parameter search using `GridSearchCV` in combination with a pipeline.\n",
    "\n",
    "We first download the basic packages."
   ]
  },
  {
   "cell_type": "code",
   "execution_count": 11,
   "metadata": {},
   "outputs": [],
   "source": [
    "import numpy as np\n",
    "import matplotlib\n",
    "import matplotlib.pyplot as plt"
   ]
  },
  {
   "cell_type": "markdown",
   "metadata": {},
   "source": [
    "## Downloading the Data\n",
    "\n",
    "We will use a very simple `wine` dataset, commonly used in teaching machine learning class.  The problem is to classify the type of red wine from features of the wine such as the `alchohol` and other chemical components.  There are three possible wine types."
   ]
  },
  {
   "cell_type": "code",
   "execution_count": 12,
   "metadata": {},
   "outputs": [
    {
     "name": "stdout",
     "output_type": "stream",
     "text": [
      "['alcohol', 'malic_acid', 'ash', 'alcalinity_of_ash', 'magnesium', 'total_phenols', 'flavanoids', 'nonflavanoid_phenols', 'proanthocyanins', 'color_intensity', 'hue', 'od280/od315_of_diluted_wines', 'proline']\n",
      "['class_0' 'class_1' 'class_2']\n"
     ]
    }
   ],
   "source": [
    "from sklearn.datasets import load_wine\n",
    "from sklearn.model_selection import KFold\n",
    "from sklearn.decomposition import PCA\n",
    "\n",
    "data = load_wine()\n",
    "\n",
    "# TODO print the features names in data.feature_names and data.target_names\n",
    "print(data.feature_names)\n",
    "print(data.target_names)"
   ]
  },
  {
   "cell_type": "markdown",
   "metadata": {},
   "source": [
    "Get the data matrix `X` from `data.data` and the target values `y` from `data.target`.  Print the number of samples, number of features and number of classes."
   ]
  },
  {
   "cell_type": "code",
   "execution_count": 13,
   "metadata": {},
   "outputs": [
    {
     "data": {
      "text/plain": [
       "13"
      ]
     },
     "execution_count": 13,
     "metadata": {},
     "output_type": "execute_result"
    }
   ],
   "source": [
    "# TODO\n",
    "#    X = ...\n",
    "#    y = ...\n",
    "x = data.data\n",
    "y = data.target\n",
    "np.shape(x)\n",
    "features = x.shape[1]\n",
    "no_samples = x.shape[0]\n",
    "features"
   ]
  },
  {
   "cell_type": "markdown",
   "metadata": {},
   "source": [
    "# Perform PCA for Visualization\n",
    "\n",
    "Before performing PCA, you should scale the data matrix to remove the mean and normalize the variance of the different components.  For this purpose, create a `StandardScaling` object `scaling`.  Then `fit` the scaling with the entire data `X`.  Transform the data and let `Xs` be the scaled data."
   ]
  },
  {
   "cell_type": "code",
   "execution_count": 14,
   "metadata": {},
   "outputs": [
    {
     "name": "stdout",
     "output_type": "stream",
     "text": [
      "[[1.423e+01 1.710e+00 2.430e+00 ... 1.040e+00 3.920e+00 1.065e+03]\n",
      " [1.320e+01 1.780e+00 2.140e+00 ... 1.050e+00 3.400e+00 1.050e+03]\n",
      " [1.316e+01 2.360e+00 2.670e+00 ... 1.030e+00 3.170e+00 1.185e+03]\n",
      " ...\n",
      " [1.327e+01 4.280e+00 2.260e+00 ... 5.900e-01 1.560e+00 8.350e+02]\n",
      " [1.317e+01 2.590e+00 2.370e+00 ... 6.000e-01 1.620e+00 8.400e+02]\n",
      " [1.413e+01 4.100e+00 2.740e+00 ... 6.100e-01 1.600e+00 5.600e+02]]\n",
      "[[ 1.51861254 -0.5622498   0.23205254 ...  0.36217728  1.84791957\n",
      "   1.01300893]\n",
      " [ 0.24628963 -0.49941338 -0.82799632 ...  0.40605066  1.1134493\n",
      "   0.96524152]\n",
      " [ 0.19687903  0.02123125  1.10933436 ...  0.31830389  0.78858745\n",
      "   1.39514818]\n",
      " ...\n",
      " [ 0.33275817  1.74474449 -0.38935541 ... -1.61212515 -1.48544548\n",
      "   0.28057537]\n",
      " [ 0.20923168  0.22769377  0.01273209 ... -1.56825176 -1.40069891\n",
      "   0.29649784]\n",
      " [ 1.39508604  1.58316512  1.36520822 ... -1.52437837 -1.42894777\n",
      "  -0.59516041]]\n"
     ]
    }
   ],
   "source": [
    "from sklearn.preprocessing import StandardScaler\n",
    "\n",
    "# TODO\n",
    "# scaling.fit(...)\n",
    "# Xs = ...\n",
    "scaling = StandardScaler()\n",
    "scaling.fit(x)\n",
    "Xs = scaling.transform(x)\n",
    "print(x)\n",
    "print(Xs)"
   ]
  },
  {
   "cell_type": "markdown",
   "metadata": {},
   "source": [
    "Now, fit a PCA on the scaled data matrix `Xs`.  You can use the `sklearn` `PCA` method.  In order that we can visualize the results set `n_components=2`.  Select `svd_solver='randomized'` and `whiten=True`.  Use the the `pca.transform` method to find, `Z`, the coefficients of `Xs` in the PCA basis."
   ]
  },
  {
   "cell_type": "code",
   "execution_count": 15,
   "metadata": {},
   "outputs": [
    {
     "data": {
      "text/plain": [
       "array([[ 1.52465094, -0.91090941],\n",
       "       [ 1.01565144,  0.21039043],\n",
       "       [ 1.15690036, -0.65071683],\n",
       "       [ 1.72705576, -1.73943207],\n",
       "       [ 0.46377716, -0.54891418],\n",
       "       [ 1.40214709, -1.33935933],\n",
       "       [ 1.12580265, -0.74139923],\n",
       "       [ 0.94668624, -1.01534988],\n",
       "       [ 1.15420394, -0.57935652],\n",
       "       [ 1.26579355, -0.49818137],\n",
       "       [ 1.59957262, -0.82184849],\n",
       "       [ 0.80662848, -0.38619344],\n",
       "       [ 0.97152078, -0.42641026],\n",
       "       [ 1.58965274, -0.71349363],\n",
       "       [ 1.98250951, -1.32268329],\n",
       "       [ 1.05965372, -1.04916745],\n",
       "       [ 0.99840893, -1.46866587],\n",
       "       [ 0.87292303, -1.0294892 ],\n",
       "       [ 1.62818709, -1.58922221],\n",
       "       [ 0.95821752, -0.66964018],\n",
       "       [ 1.43623188, -0.49657812],\n",
       "       [ 0.4994768 , -0.15255435],\n",
       "       [ 1.1653971 ,  0.05795681],\n",
       "       [ 0.75617167,  0.3258022 ],\n",
       "       [ 0.80976487,  0.20013952],\n",
       "       [ 0.45512163, -0.59361616],\n",
       "       [ 0.81606333, -0.43301669],\n",
       "       [ 0.56790227,  0.05667349],\n",
       "       [ 1.00597119, -0.43515881],\n",
       "       [ 1.03709289, -0.12082373],\n",
       "       [ 1.14930636, -0.78303879],\n",
       "       [ 1.2307579 , -0.9288384 ],\n",
       "       [ 0.74862865, -0.03325957],\n",
       "       [ 0.87463291, -1.03055671],\n",
       "       [ 0.64833034, -0.44043741],\n",
       "       [ 0.87515482, -0.11151493],\n",
       "       [ 0.63659636, -0.41564031],\n",
       "       [ 0.51585864, -0.07200995],\n",
       "       [ 0.6905319 ,  0.48555666],\n",
       "       [ 1.16290425, -1.1377998 ],\n",
       "       [ 1.18970111, -0.49198351],\n",
       "       [ 0.3072892 , -0.10725526],\n",
       "       [ 1.41159497, -0.72945254],\n",
       "       [ 0.21246926, -0.20871763],\n",
       "       [ 0.96595384,  0.04481079],\n",
       "       [ 0.52227524, -1.12145878],\n",
       "       [ 1.25336962, -0.75180194],\n",
       "       [ 1.29691913, -0.40782699],\n",
       "       [ 0.92389243, -0.78694858],\n",
       "       [ 1.24458525, -1.10559391],\n",
       "       [ 1.47783997, -0.10538171],\n",
       "       [ 1.31421262, -0.47031455],\n",
       "       [ 1.61146353, -1.01772948],\n",
       "       [ 1.02269675, -1.18334079],\n",
       "       [ 0.98693184, -0.6416297 ],\n",
       "       [ 1.13510653, -0.83868207],\n",
       "       [ 1.26022668, -0.90654639],\n",
       "       [ 0.99922976, -0.76496905],\n",
       "       [ 1.44311682, -1.09272778],\n",
       "       [-0.4268525 ,  1.93954961],\n",
       "       [-0.70905049,  0.8717717 ],\n",
       "       [-0.84409112,  0.5237686 ],\n",
       "       [ 0.01406941,  0.79689199],\n",
       "       [ 0.94246854,  1.21480822],\n",
       "       [-0.28025936,  1.20409681],\n",
       "       [ 0.41381861,  0.48207286],\n",
       "       [ 1.03359848,  1.18928819],\n",
       "       [ 0.08429835,  1.5316713 ],\n",
       "       [-0.37363191,  0.13915718],\n",
       "       [ 0.90815735,  0.88555383],\n",
       "       [-0.72271963,  0.55847618],\n",
       "       [ 0.76200663,  0.60374136],\n",
       "       [-0.33344069,  0.67122253],\n",
       "       [ 1.17780993, -0.16420054],\n",
       "       [ 0.84239849,  0.81272641],\n",
       "       [-0.39900079,  1.54237096],\n",
       "       [ 0.17008899,  1.35924142],\n",
       "       [-0.66993012,  0.87297596],\n",
       "       [ 0.58054669,  0.48645118],\n",
       "       [ 0.17290959,  0.64812451],\n",
       "       [ 0.35030713,  2.12985652],\n",
       "       [ 0.47557696,  0.91548279],\n",
       "       [-0.22748598,  1.50270402],\n",
       "       [-1.16712229,  0.05518193],\n",
       "       [ 0.38398171,  0.92997233],\n",
       "       [ 0.36218564,  1.27891994],\n",
       "       [-0.37088629,  1.40967775],\n",
       "       [-0.2565222 ,  1.4974927 ],\n",
       "       [-0.51259657,  1.13732347],\n",
       "       [-0.25545583,  1.67706328],\n",
       "       [-0.62024227,  1.33658291],\n",
       "       [-0.71916463,  1.16885579],\n",
       "       [-0.8883612 ,  0.98413295],\n",
       "       [ 0.34322896,  1.45959527],\n",
       "       [ 0.44012508,  1.40317654],\n",
       "       [ 1.16936926, -0.10682184],\n",
       "       [-0.25004526,  0.23281419],\n",
       "       [ 0.4739551 ,  1.61902443],\n",
       "       [ 1.03516242,  0.9041437 ],\n",
       "       [ 0.64825104,  1.36699381],\n",
       "       [ 0.3666975 ,  1.49999387],\n",
       "       [-0.25260989,  1.44709842],\n",
       "       [-0.07408868,  0.73485711],\n",
       "       [-0.30329592,  1.69121234],\n",
       "       [ 0.18035829,  1.32442256],\n",
       "       [-0.81478608,  1.08370961],\n",
       "       [-0.16836654,  1.36898896],\n",
       "       [-0.74499415,  0.85545253],\n",
       "       [ 0.03794022,  1.45536901],\n",
       "       [ 0.72550478,  0.92262918],\n",
       "       [ 0.65301024,  0.89497135],\n",
       "       [-0.12811466,  1.21830146],\n",
       "       [-0.5990324 ,  0.48160646],\n",
       "       [-0.21010775,  1.43213406],\n",
       "       [-0.22716838,  1.22365093],\n",
       "       [ 0.22160097,  2.44332224],\n",
       "       [-0.11624849,  1.78052683],\n",
       "       [-0.04929062,  1.21726275],\n",
       "       [-1.11841231,  0.79332961],\n",
       "       [-0.25332599,  1.402314  ],\n",
       "       [ 0.33999095,  0.88913412],\n",
       "       [ 0.61428316, -0.15987025],\n",
       "       [-0.54108581,  0.41900196],\n",
       "       [-0.21252712,  0.39017606],\n",
       "       [ 0.44978701,  0.91223958],\n",
       "       [-0.0445017 ,  1.33153227],\n",
       "       [ 0.01769185,  0.79940109],\n",
       "       [-0.73418515,  0.76240935],\n",
       "       [-0.2204474 ,  1.22352198],\n",
       "       [-0.82413343,  0.72589913],\n",
       "       [-0.61004486, -0.10752557],\n",
       "       [-1.09611232, -0.23638351],\n",
       "       [-1.35005876, -0.16651221],\n",
       "       [-0.98685062, -0.23239043],\n",
       "       [-1.08938655,  0.2900564 ],\n",
       "       [-1.40839309, -0.22302418],\n",
       "       [-1.80000187, -0.09755063],\n",
       "       [-1.80952171, -0.41630127],\n",
       "       [-1.4223833 , -0.22014022],\n",
       "       [-1.09150207, -0.18425677],\n",
       "       [-1.27737053, -0.18099071],\n",
       "       [-1.05109126, -0.23507428],\n",
       "       [-1.37244223, -0.30872517],\n",
       "       [-1.09183446, -0.30438085],\n",
       "       [-1.0158356 , -0.732061  ],\n",
       "       [-1.20695094, -0.35538743],\n",
       "       [-1.96773297, -0.4099804 ],\n",
       "       [-1.64687606, -0.80314994],\n",
       "       [-1.29035691, -0.99109878],\n",
       "       [-1.33292146, -1.28802636],\n",
       "       [-1.06680122, -1.48700485],\n",
       "       [-1.17211161, -1.29069329],\n",
       "       [-0.83319276, -0.96403406],\n",
       "       [-1.26878905, -1.34979151],\n",
       "       [-1.25821905, -0.25866222],\n",
       "       [-1.65709364, -1.13740994],\n",
       "       [-1.32840125, -1.21492565],\n",
       "       [-1.55931338, -0.82787081],\n",
       "       [-0.48183044, -2.21822743],\n",
       "       [-0.74004784, -1.51872963],\n",
       "       [-1.444841  , -0.46582286],\n",
       "       [-1.02976   , -0.74178745],\n",
       "       [-1.30902462, -0.35089631],\n",
       "       [-1.19402287, -0.44045711],\n",
       "       [-1.35574009, -0.98149097],\n",
       "       [-1.6226926 , -0.55692605],\n",
       "       [-1.10604592, -1.63592847],\n",
       "       [-1.34644778, -0.80425061],\n",
       "       [-1.00275638, -1.31104767],\n",
       "       [-1.09446985, -1.63360071],\n",
       "       [-1.4763229 ,  0.15855289],\n",
       "       [-1.69067335, -0.53497849],\n",
       "       [-1.13337183, -1.38441517],\n",
       "       [-1.54936957, -1.39860818],\n",
       "       [-1.1960725 , -1.10891461],\n",
       "       [-1.23095483, -1.74228893],\n",
       "       [-1.097269  , -1.44976023],\n",
       "       [-1.47500865, -1.74735036]])"
      ]
     },
     "execution_count": 15,
     "metadata": {},
     "output_type": "execute_result"
    }
   ],
   "source": [
    "from sklearn.decomposition import PCA\n",
    "\n",
    "pca = PCA(n_components=2, svd_solver='randomized', whiten = True)\n",
    "pca.fit(Xs)\n",
    "z = pca.transform(Xs)\n",
    "np.shape(z)\n",
    "z"
   ]
  },
  {
   "cell_type": "markdown",
   "metadata": {},
   "source": [
    "In the transformed basis, each data sample is represented by a two dimensional vector, `Z[i,0], Z[i,1]`.  Plot a scatter plot of the transformed data.  Use different marker colors for the different classes.  If you did everything, you should see that the classes are quite well separated with even two PCs."
   ]
  },
  {
   "cell_type": "code",
   "execution_count": 16,
   "metadata": {},
   "outputs": [
    {
     "data": {
      "image/png": "[encoded data removed]",
      "text/plain": [
       "<matplotlib.figure.Figure at 0x25206f3bc18>"
      ]
     },
     "metadata": {},
     "output_type": "display_data"
    }
   ],
   "source": [
    "# TODO\n",
    "# plt.scatter(...)\n",
    "c1 = np.argwhere(y==0)\n",
    "c2 = np.argwhere(y==1)\n",
    "c3 = np.argwhere(y==2)\n",
    "plt.scatter(z[c1,0],z[c1,1], c= 'b', label = 'Class 0')\n",
    "plt.scatter(z[c2,0],z[c2,1], c= 'g', label = 'Class 1')\n",
    "plt.scatter(z[c3,0],z[c3,1], c= 'r', label = 'Class 2')\n",
    "plt.legend()\n",
    "plt.show()"
   ]
  },
  {
   "cell_type": "markdown",
   "metadata": {},
   "source": [
    "Now, refit the scaled data `Xs` using `n_components=nfeatures` where `nfeatures` is the number of features.  This is the maximum number of PCs.  Get the singular values from `pca.singular_values_` and plot the portion of variation as a function of the number of PCs.   The PoV for using `n` PCs is:\n",
    "\n",
    "    PoV[n]  = \\sum_{i=0}^{n-1}  s[i]**2 / \\sum_{i=0}^{d-1}  s[i]**2\n",
    "    \n",
    "where `s[i]` is the `i`-th singular value and `d` is the number of features.  You should see that the 4 PCs contains more than 70% of the variance."
   ]
  },
  {
   "cell_type": "code",
   "execution_count": 17,
   "metadata": {},
   "outputs": [
    {
     "data": {
      "image/png": "[encoded data removed]",
      "text/plain": [
       "<matplotlib.figure.Figure at 0x25206efcf98>"
      ]
     },
     "metadata": {},
     "output_type": "display_data"
    }
   ],
   "source": [
    "# TODO\n",
    "pca = PCA(n_components=features, svd_solver='randomized', whiten = True)\n",
    "pca.fit(Xs)\n",
    "z = pca.transform(Xs)\n",
    "s = pca.singular_values_\n",
    "lam = s**2\n",
    "PoV  = np.cumsum(lam)/np.sum(lam)\n",
    "PoV\n",
    "plt.plot(PoV)\n",
    "plt.show()"
   ]
  },
  {
   "cell_type": "markdown",
   "metadata": {},
   "source": [
    "## Using PCA with Classification \n",
    "\n",
    "We will now use data scaling and PCA as a pre-processing step for logistic classification.  The number of PCs to use can be found with cross-validation.  Complete the code below which tries different number of PCs components to use and measures the test accuracy for each value."
   ]
  },
  {
   "cell_type": "code",
   "execution_count": 114,
   "metadata": {},
   "outputs": [
    {
     "name": "stdout",
     "output_type": "stream",
     "text": [
      "(10,)\n",
      "acc =   8.8889e-01\n",
      "acc =   9.1667e-01\n",
      "acc =   8.8889e-01\n",
      "acc =   9.1429e-01\n",
      "acc =   9.4286e-01\n",
      "acc =   8.6111e-01\n",
      "acc =   9.4444e-01\n",
      "acc =   8.8889e-01\n",
      "acc =   9.4286e-01\n",
      "acc =   9.4286e-01\n",
      "acc =   8.6111e-01\n",
      "acc =   9.4444e-01\n",
      "acc =   8.8889e-01\n",
      "acc =   9.4286e-01\n",
      "acc =   9.4286e-01\n",
      "acc =   8.6111e-01\n",
      "acc =   8.6111e-01\n",
      "acc =   8.8889e-01\n",
      "acc =   9.4286e-01\n",
      "acc =   9.4286e-01\n",
      "acc =   9.7222e-01\n",
      "acc =   9.1667e-01\n",
      "acc =   9.1667e-01\n",
      "acc =   9.4286e-01\n",
      "acc =   9.4286e-01\n",
      "acc =   9.7222e-01\n",
      "acc =   9.1667e-01\n",
      "acc =   9.1667e-01\n",
      "acc =   9.4286e-01\n",
      "acc =   9.7143e-01\n",
      "acc =   9.4444e-01\n",
      "acc =   9.4444e-01\n",
      "acc =   9.1667e-01\n",
      "acc =   9.4286e-01\n",
      "acc =   9.7143e-01\n",
      "acc =   9.4444e-01\n",
      "acc =   9.4444e-01\n",
      "acc =   9.4444e-01\n",
      "acc =   9.7143e-01\n",
      "acc =   1.0000e+00\n",
      "acc =   9.4444e-01\n",
      "acc =   9.1667e-01\n",
      "acc =   9.4444e-01\n",
      "acc =   9.7143e-01\n",
      "acc =   1.0000e+00\n",
      "acc =   9.7222e-01\n",
      "acc =   9.4444e-01\n",
      "acc =   9.4444e-01\n",
      "acc =   9.7143e-01\n",
      "acc =   1.0000e+00\n"
     ]
    }
   ],
   "source": [
    "from sklearn.preprocessing import StandardScaler\n",
    "from sklearn.linear_model import LogisticRegression\n",
    "nfold = 5\n",
    "\n",
    "# Create a K-fold object\n",
    "kf = KFold(n_splits=nfold)\n",
    "kf.get_n_splits(x)\n",
    "\n",
    "# Number of PCs to try\n",
    "ncomp_test = np.arange(2,12)\n",
    "print(np.shape(ncomp_test))\n",
    "num_nc = len(ncomp_test)\n",
    "\n",
    "# Accuracy:  acc[icomp,ifold]  is test accuracy when using `ncomp = ncomp_test[icomp]` in fold `ifold`.\n",
    "acc = np.zeros((num_nc,nfold))\n",
    "\n",
    "# Loop over number of components to test\n",
    "for icomp, ncomp in enumerate(ncomp_test):\n",
    "    \n",
    "    # Look over the folds\n",
    "    for ifold, I in enumerate(kf.split(x)):\n",
    "        Itr, Its = I\n",
    "\n",
    "        # TODO:  Split data into training \n",
    "        Xtr = x[Itr,:]\n",
    "        Xts = x[Its,:]\n",
    "        ytr = y[Itr]\n",
    "        yts = y[Its]\n",
    "\n",
    "        # TODO:  Create a scaling object and fit the scaling on the training data\n",
    "        scaling = StandardScaler()\n",
    "        scaling.fit(Xtr)\n",
    "        Xs_tr = scaling.transform(Xtr)\n",
    "        \n",
    "        # TODO:  Fit the PCA on the scaled training data\n",
    "        pca = PCA(n_components = ncomp,svd_solver='randomized', whiten = True)\n",
    "        pca.fit(Xs_tr)\n",
    "        Ztr = pca.transform(Xs_tr)\n",
    "        \n",
    "        # TODO:  Train a classifier on the transformed training data\n",
    "        logreg = LogisticRegression(multi_class='ovr', solver='lbfgs')\n",
    "\n",
    "        # Use a logistic regression classifier\n",
    "        logreg.fit(Ztr,ytr)\n",
    "        \n",
    "        # TODO:  Transform the test data through data scaler and PCA\n",
    "        Xss = scaling.transform(Xts)\n",
    "        Zts = pca.transform(Xss)\n",
    "        \n",
    "        # TODO:  Predict the labels the test data\n",
    "        yhat = logreg.predict(Zts)\n",
    "        \n",
    "        # TODO:  Measure the accuracy \n",
    "        acc[icomp, ifold] = np.mean(yhat == yts)\n",
    "        print(\"acc = %12.4e\" %(acc[icomp,ifold]))"
   ]
  },
  {
   "cell_type": "markdown",
   "metadata": {},
   "source": [
    "Use the `plt.errorbar` function to plot the mean accuracy with error bars corresponding to the standard error of the accuracy as a function of the number of components.  Find the optimal number of PCs to use according to the normal rule and one SE rule.  If you did it correctly, you should get an accuracy of around 96%."
   ]
  },
  {
   "cell_type": "code",
   "execution_count": 115,
   "metadata": {},
   "outputs": [
    {
     "name": "stdout",
     "output_type": "stream",
     "text": [
      "Optimal order using normal rule is : 11\n",
      "Accuracy 0.966508\n",
      "Optimal model order with one SE rule : 9\n",
      "Accuracy 0.960952\n"
     ]
    },
    {
     "data": {
      "image/png": "[encoded data removed]",
      "text/plain": [
       "<matplotlib.figure.Figure at 0x2520742bcf8>"
      ]
     },
     "metadata": {},
     "output_type": "display_data"
    }
   ],
   "source": [
    "# TODO:\n",
    "acc_mean = np.mean(acc,axis=1)\n",
    "acc_se = np.std(acc,axis = 1)/np.sqrt(nfold-1)\n",
    "plt.errorbar(ncomp_test,acc_mean,marker = 'o', yerr = acc_se)\n",
    "\n",
    "# TODO:  Optimal order with the normal rule\n",
    "imax = np.argmax(acc_mean)\n",
    "print(\"Optimal order using normal rule is :\",ncomp_test[imax])\n",
    "print('Accuracy %f' % acc_mean[imax])\n",
    "\n",
    "# TODO:  Optimal order with one SE rule\n",
    "acc_tgt = acc_mean[imax] - acc_se[imax]\n",
    "I = np.where(acc_mean >= acc_tgt)[0]\n",
    "iopt = I[0]\n",
    "dopt = ncomp_test[iopt]\n",
    "print('Optimal model order with one SE rule : %d' % dopt)\n",
    "print('Accuracy %f' % acc_mean[iopt])"
   ]
  },
  {
   "cell_type": "markdown",
   "metadata": {},
   "source": [
    "## Hyper-Parameter Optimization with GridCV.\n",
    "\n",
    "We will now try a more complex classifier -- a support vector classifier with a radial basis function.  When we use such a classifer, there will be a number of parameters to tune.  When the number of parameters to tune becomes large, writing a loop over multiple parameters as we did above becomes cumbersome.  The `sklearn` package has a very nice routine, `GridSearchCV` to perform this sort of parameter search.  \n",
    "\n",
    "Before, we do this we need to create an estimator `Pipeline`.  An estimator pipeline is a sequence of transformations followed by an estimator that will operate on the transformed data.  Create the following pipeline:\n",
    "\n",
    "*  Create a `StandardScaler()` object called `scaler` for the first transformation\n",
    "*  Create a `PCA()` object called `pca` for the second transformation\n",
    "*  Create a `SVC()` object called `svc` for the final SVM classifier.  Set the parameter `kernel='rbf'`.\n",
    "\n",
    "Once you have the three steps defined, you can create the pipeline with the command:\n",
    "    \n",
    "    pipe = Pipeline(steps=[('scaler', scaler), ('pca', pca), ('svc', svc)])"
   ]
  },
  {
   "cell_type": "code",
   "execution_count": 116,
   "metadata": {},
   "outputs": [],
   "source": [
    "from sklearn.pipeline import Pipeline\n",
    "from sklearn.model_selection import GridSearchCV\n",
    "from sklearn.svm import SVC\n",
    "\n",
    "\n",
    "# TODO\n",
    "scaler = StandardScaler()\n",
    "pca = PCA() \n",
    "svc = SVC(kernel='rbf')\n",
    "pipe = Pipeline(steps=[('scaler', scaler), ('pca', pca), ('svc', svc)])"
   ]
  },
  {
   "cell_type": "markdown",
   "metadata": {},
   "source": [
    "We next define all the parameters that we want to search over.  Define the following arrays:\n",
    "\n",
    "*  `ncomp_test`:  values from 3 to 10 representing number of PCs to test\n",
    "*  `C_test`:  values of `C` in the SVC to test.  Use `10^{-2}, 10^{-1}, ... ,10^{3}` \n",
    "*  `gam_test`:  values of `gamma` in the SVC to test.  Use `10^{-3}, 10^{-2}, ... ,10^{1}` "
   ]
  },
  {
   "cell_type": "code",
   "execution_count": 117,
   "metadata": {},
   "outputs": [],
   "source": [
    "# TODO\n",
    "ncomp_test = np.arange(3,11)\n",
    "c_test = [1e-2,1e-1,1e0,1e1,1e2,1e3]  #[10^{-2},10^{-1},10^{0},10^{1},10^{2},10^{3}]\n",
    "gam_test = [1e-3,1e-2,1e-1,1e0,1e1]"
   ]
  },
  {
   "cell_type": "code",
   "execution_count": 118,
   "metadata": {},
   "outputs": [],
   "source": [
    "\n",
    "params = {'pca__n_components': ncomp_test, 'svc__C': c_test, 'svc__gamma': gam_test}"
   ]
  },
  {
   "cell_type": "markdown",
   "metadata": {},
   "source": [
    "Finally, an object `estimator = GridSearchCV(...)` from  `pipe` and `params`.  Set `cv=5`, `train_score=True` and `iid=False`.  Fit the estimator from the data `X,y`.  Then the estimator will perform the cross-validation over all the parameters.  This may take a minute since we are search over so many parameters."
   ]
  },
  {
   "cell_type": "code",
   "execution_count": 119,
   "metadata": {},
   "outputs": [
    {
     "data": {
      "text/plain": [
       "GridSearchCV(cv=5, error_score='raise-deprecating',\n",
       "       estimator=Pipeline(memory=None,\n",
       "     steps=[('scaler', StandardScaler(copy=True, with_mean=True, with_std=True)), ('pca', PCA(copy=True, iterated_power='auto', n_components=None, random_state=None,\n",
       "  svd_solver='auto', tol=0.0, whiten=False)), ('svc', SVC(C=1.0, cache_size=200, class_weight=None, coef0=0.0,\n",
       "  decision_function_shape='ovr', degree=3, gamma='auto_deprecated',\n",
       "  kernel='rbf', max_iter=-1, probability=False, random_state=None,\n",
       "  shrinking=True, tol=0.001, verbose=False))]),\n",
       "       fit_params=None, iid=False, n_jobs=None,\n",
       "       param_grid={'pca__n_components': array([ 3,  4,  5,  6,  7,  8,  9, 10]), 'svc__C': [0.01, 0.1, 1.0, 10.0, 100.0, 1000.0], 'svc__gamma': [0.001, 0.01, 0.1, 1.0, 10.0]},\n",
       "       pre_dispatch='2*n_jobs', refit=True, return_train_score=True,\n",
       "       scoring=None, verbose=0)"
      ]
     },
     "execution_count": 119,
     "metadata": {},
     "output_type": "execute_result"
    }
   ],
   "source": [
    "# TODO\n",
    "estimator = GridSearchCV(pipe, params, cv=5, return_train_score=True, iid=False)\n",
    "# estimator.get_params().keys()\n",
    "estimator.fit(x,y)"
   ]
  },
  {
   "cell_type": "markdown",
   "metadata": {},
   "source": [
    "Print the best test score and best parameters.  They are fields in `estimator`.  If you did it correctly, it should be a little higher than the logistic regression (about 0.97 to 0.98 accuracy)."
   ]
  },
  {
   "cell_type": "code",
   "execution_count": 120,
   "metadata": {},
   "outputs": [
    {
     "name": "stdout",
     "output_type": "stream",
     "text": [
      "0.978078078078078\n",
      "{'pca__n_components': 5, 'svc__C': 1.0, 'svc__gamma': 0.1}\n"
     ]
    }
   ],
   "source": [
    "# TODO\n",
    "print(estimator.best_score_)\n",
    "print(estimator.best_params_)"
   ]
  },
  {
   "cell_type": "markdown",
   "metadata": {},
   "source": [
    "Finally, you can get the test score for all the parameter choices from \n",
    "\n",
    "    test_score = estimator.cv_results_['mean_test_score']\n",
    "    \n",
    "Use the `imshow` command to plot the mean test score over `gamma` and `C` for the value `n_components=5`."
   ]
  },
  {
   "cell_type": "code",
   "execution_count": 121,
   "metadata": {},
   "outputs": [
    {
     "data": {
      "image/png": "[encoded data removed]",
      "text/plain": [
       "<matplotlib.figure.Figure at 0x25206664b00>"
      ]
     },
     "metadata": {},
     "output_type": "display_data"
    }
   ],
   "source": [
    "# TODO\n",
    "test_score = estimator.cv_results_['mean_test_score']\n",
    "im_test = test_score.reshape(8,6,5)\n",
    "plt.imshow(im_test[2], aspect='auto')\n",
    "plt.colorbar()\n",
    "plt.xlabel('Gamma')\n",
    "plt.ylabel('C')\n",
    "\n",
    "n0 = len(c_test)\n",
    "n1 = len(gam_test)\n",
    "ax = plt.gca()\n",
    "ax.set_xticks(np.arange(0,n1))\n",
    "ax.set_xticklabels(gam_test)\n",
    "ax.set_yticks(np.arange(0,n0))\n",
    "_ = ax.set_yticklabels(c_test)\n",
    "\n"
   ]
  },
  {
   "cell_type": "code",
   "execution_count": null,
   "metadata": {},
   "outputs": [],
   "source": []
  },
  {
   "cell_type": "code",
   "execution_count": null,
   "metadata": {},
   "outputs": [],
   "source": []
  }
 ],
 "metadata": {
  "kernelspec": {
   "display_name": "Python 3",
   "language": "python",
   "name": "python3"
  },
  "language_info": {
   "codemirror_mode": {
    "name": "ipython",
    "version": 3
   },
   "file_extension": ".py",
   "mimetype": "text/x-python",
   "name": "python",
   "nbconvert_exporter": "python",
   "pygments_lexer": "ipython3",
   "version": "3.6.4"
  }
 },
 "nbformat": 4,
 "nbformat_minor": 2
}
