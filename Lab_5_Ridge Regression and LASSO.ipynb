{
 "cells": [
  {
   "cell_type": "markdown",
   "metadata": {},
   "source": [
    "# Lab:  Source Localization for EEG\n",
    "\n",
    "EEG or [Electroencephalography](https://en.wikipedia.org/wiki/Electroencephalography) is a powerful tool for neuroscientists in understanding brain activity.  In EEG, a patient wears a headset with electrodes that measures voltages at a number of points on the scalp.  These voltages arise from ionic currents within the brain.  A common *inverse problem* is to estimate the which parts of the brain caused the measured response.  Source localization is useful in understanding which parts of the brain are involved in certain tasks.  A key challenge in this inverse problem is that the number of unknowns (possible locations in the brain) is much larger than the number of measurements.  In this lab, we will use LASSO regression on a real EEG dataset to overcome this problem and determine the brain region that is active under an auditory stimulus.\n",
    "\n",
    "In addition to the concepts in the [prostate LASSO demo](./demo_prostate.ipynb) you will learn to:\n",
    "* Represent responses of multi-channel time-series data, such as EEG, using linear models\n",
    "* Perform LASSO and Ridge regression\n",
    "* Select the regularization level via cross-validation\n",
    "* Visually compare the sparsity between the solutions\n",
    "\n",
    "We first download standard packages."
   ]
  },
  {
   "cell_type": "code",
   "execution_count": null,
   "metadata": {},
   "outputs": [],
   "source": [
    "import numpy as np\n",
    "import matplotlib.pyplot as plt\n",
    "import pickle\n",
    "\n",
    "\n",
    "from sklearn.linear_model import Lasso, Ridge, ElasticNet\n",
    "from sklearn.metrics import r2_score\n",
    "from sklearn.model_selection import train_test_split"
   ]
  },
  {
   "cell_type": "markdown",
   "metadata": {},
   "source": [
    "## Load the Data\n",
    "\n",
    "The data in this lab is taken from one of the sample datasets in the [MNE website](https://martinos.org/mne/stable/index.html). The sample data is a recording from one subject who experienced some auditory stimulus on the left ear.    \n",
    "\n",
    "The raw data is very large (`1.5G`) and also requires that you install the `mne` python package. To make this lab easier, I have extracted and processed a small section of the data. The following command will download a `pickle` file `eeg_dat.p` to your local machine.  If you do want to create the data yourself, the program to create the data is in this directory in the github repository."
   ]
  },
  {
   "cell_type": "code",
   "execution_count": 11,
   "metadata": {},
   "outputs": [
    {
     "name": "stdout",
     "output_type": "stream",
     "text": [
      "File eeg_dat.p is already downloaded\n"
     ]
    }
   ],
   "source": [
    "fn_src ='https://drive.google.com/uc?export=download&id=1RzQpKONOcXSMxH2ZzOI4iVMiTgD6ttSl'\n",
    "fn_dst ='eeg_dat.p'\n",
    "\n",
    "import os\n",
    "from six.moves import urllib\n",
    "\n",
    "if os.path.isfile(fn_dst):\n",
    "    print('File %s is already downloaded' % fn_dst)\n",
    "else:        \n",
    "    print('Fetching file %s [53MB].  This may take a minute..' % fn_dst)\n",
    "    urllib.request.urlretrieve(fn_src, fn_dst)\n",
    "    print('File %s downloaded' % fn_dst)"
   ]
  },
  {
   "cell_type": "markdown",
   "metadata": {},
   "source": [
    "Now run the following command which will get the data from the `pickle` file."
   ]
  },
  {
   "cell_type": "code",
   "execution_count": 12,
   "metadata": {},
   "outputs": [],
   "source": [
    "import pickle\n",
    "fn = 'eeg_dat.p'\n",
    "with open(fn, 'rb') as fp:\n",
    "    [X,Y] = pickle.load(fp)"
   ]
  },
  {
   "cell_type": "markdown",
   "metadata": {},
   "source": [
    "To understand the data, there are three key variables:\n",
    "* `nt`    = number of time steps that we measure data\n",
    "* `nchan` = number of channels (i.e. electrodes) measured in each time step\n",
    "* `ncur`  = number of currents in the brain that we want to estimate.  \n",
    "\n",
    "Each current comes from one brain region (called a *voxel*) in either the `x`, `y` or `z` direction.  So,\n",
    "\n",
    "    nvoxels = ncur / 3\n",
    "    \n",
    "The components of the `X` and `Y` matrices are:\n",
    "*  `Y[i,k]` = electric field measurement on channel `i` at time `k`\n",
    "*  `X[i,j]` = sensitivity of channel `i` to current `j`.\n",
    "\n",
    "Using `X.shape` and `Y.shape` compute and print `nt`, `nchan`, `ncur` and `nvoxels`."
   ]
  },
  {
   "cell_type": "code",
   "execution_count": 13,
   "metadata": {},
   "outputs": [
    {
     "name": "stdout",
     "output_type": "stream",
     "text": [
      "nt = 85, ncur = 22494, nchan = 305, nvoxels = 7498.0\n"
     ]
    }
   ],
   "source": [
    "# TODO\n",
    "nt = Y.shape[1]\n",
    "ncur = X.shape[1]\n",
    "nchan = Y.shape[0]\n",
    "nvoxels = ncur/3\n",
    "print(\"nt = {}, ncur = {}, nchan = {}, nvoxels = {}\" .format(nt,ncur,nchan,nvoxels))"
   ]
  },
  {
   "cell_type": "markdown",
   "metadata": {},
   "source": [
    "## Ridge Regression\n",
    "\n",
    "Our goal is to estimate the currents in the brain from the measurements `Y`.  One simple linear model is:\n",
    "\n",
    "    Y[i,k]  = \\sum_j X[i,j]*W[j,k]+ b[k]\n",
    "\n",
    "where `W[j,k]` is the value of current `j` at time `k` and `b[k]` is a bias.  We can solve for the current matrix `W` via linear regression.  \n",
    "\n",
    "Howeever, there is a problem:\n",
    "*  There are `nt x ncur` unknowns in `W`\n",
    "*  There are only `nt x nchan` measurements in `Y`.\n",
    "\n",
    "In this problem, we have:\n",
    "\n",
    "    number of measurements  << number of unknowns\n",
    "    \n",
    "We need to use regularization in these circumstances.  We first try Ridge regression.\n",
    "\n",
    "First split the data into training and test.  Use the `train_test_split` function with `test_size=0.33`."
   ]
  },
  {
   "cell_type": "code",
   "execution_count": 14,
   "metadata": {},
   "outputs": [],
   "source": [
    "# TODO\n",
    "Xtr,Xts,Ytr,Yts = train_test_split(X,Y,test_size = 0.33)"
   ]
  },
  {
   "cell_type": "markdown",
   "metadata": {},
   "source": [
    "Use the `Ridge` regression object in `sklearn` to fit the model on the training data.  Use a regularization, `alpha=1`."
   ]
  },
  {
   "cell_type": "code",
   "execution_count": 15,
   "metadata": {},
   "outputs": [
    {
     "data": {
      "text/plain": [
       "Ridge(alpha=1, copy_X=True, fit_intercept=True, max_iter=None,\n",
       "   normalize=False, random_state=None, solver='auto', tol=0.001)"
      ]
     },
     "execution_count": 15,
     "metadata": {},
     "output_type": "execute_result"
    }
   ],
   "source": [
    "# TODO\n",
    "regr = Ridge(alpha = 1)\n",
    "regr.fit(Xtr,Ytr)"
   ]
  },
  {
   "cell_type": "markdown",
   "metadata": {},
   "source": [
    "Preict the values `Y` on both the training and test data.  Use the `r2_score` method to measure the `R^2` value on both the training and test.  You will see that `R^2` value is large for the training data, it is very low for the test data.  This suggest that even with regularization, the model is over-fitting the data."
   ]
  },
  {
   "cell_type": "code",
   "execution_count": 16,
   "metadata": {},
   "outputs": [
    {
     "name": "stdout",
     "output_type": "stream",
     "text": [
      "r2_score train =  0.5863430345689788\n",
      "r2_score = test 0.19970600212404957\n"
     ]
    }
   ],
   "source": [
    "# TODO\n",
    "Ypred_train = regr.predict(Xtr)\n",
    "Ypred_test = regr.predict(Xts)\n",
    "rsq_tr = r2_score(Ytr, Ypred_train)\n",
    "rsq_ts = r2_score(Yts, Ypred_test)\n",
    "print(\"r2_score train = \", rsq_tr)\n",
    "print(\"r2_score = test\", rsq_ts)"
   ]
  },
  {
   "cell_type": "markdown",
   "metadata": {},
   "source": [
    "Next, try to see if we can get a better `R^2` score using different values of `alpha`.  Use cross-validation to measure the test `R^2` for 20 `alpha` values logarithmically spaced from `10^{-2}` to `10^{2}` (use `np.logspace()`).  You can use regular cross-validation.  You do not need to do `K`-fold."
   ]
  },
  {
   "cell_type": "code",
   "execution_count": 17,
   "metadata": {},
   "outputs": [
    {
     "name": "stdout",
     "output_type": "stream",
     "text": [
      "values =  [1.00000000e-02 1.62377674e-02 2.63665090e-02 4.28133240e-02\n",
      " 6.95192796e-02 1.12883789e-01 1.83298071e-01 2.97635144e-01\n",
      " 4.83293024e-01 7.84759970e-01 1.27427499e+00 2.06913808e+00\n",
      " 3.35981829e+00 5.45559478e+00 8.85866790e+00 1.43844989e+01\n",
      " 2.33572147e+01 3.79269019e+01 6.15848211e+01 1.00000000e+02]\n",
      "i =  0\n",
      "r2_score test of 0 th value = -0.34338149127114415\n",
      "i =  1\n",
      "r2_score test of 1 th value = -0.20864872382011915\n",
      "i =  2\n",
      "r2_score test of 2 th value = -0.09575112556583994\n",
      "i =  3\n",
      "r2_score test of 3 th value = -0.00032437148793435807\n",
      "i =  4\n",
      "r2_score test of 4 th value = 0.07940361768697722\n",
      "i =  5\n",
      "r2_score test of 5 th value = 0.1427250996082883\n",
      "i =  6\n",
      "r2_score test of 6 th value = 0.18763865441776226\n",
      "i =  7\n",
      "r2_score test of 7 th value = 0.21272980424044735\n",
      "i =  8\n",
      "r2_score test of 8 th value = 0.21878161757104356\n",
      "i =  9\n",
      "r2_score test of 9 th value = 0.20905712675704452\n",
      "i =  10\n",
      "r2_score test of 10 th value = 0.1881494639273332\n",
      "i =  11\n",
      "r2_score test of 11 th value = 0.16053319115379241\n",
      "i =  12\n",
      "r2_score test of 12 th value = 0.12991839604112126\n",
      "i =  13\n",
      "r2_score test of 13 th value = 0.0993567070526392\n",
      "i =  14\n",
      "r2_score test of 14 th value = 0.07134710142981891\n",
      "i =  15\n",
      "r2_score test of 15 th value = 0.047623913371306434\n",
      "i =  16\n",
      "r2_score test of 16 th value = 0.02893718931175669\n",
      "i =  17\n",
      "r2_score test of 17 th value = 0.0151243153758329\n",
      "i =  18\n",
      "r2_score test of 18 th value = 0.005436314979131761\n",
      "i =  19\n",
      "r2_score test of 19 th value = -0.0010871130976442616\n"
     ]
    }
   ],
   "source": [
    "# TODO\n",
    "values = np.logspace(start = -2, stop = 2, base = 10, num = 20)\n",
    "print(\"values = \", values)\n",
    "rsq_tr = np.zeros(20)\n",
    "rsq_ts = np.zeros(20)\n",
    "for count,i in enumerate(values):\n",
    "    print(\"i = \", count)\n",
    "    regr = Ridge(alpha = i)\n",
    "    regr.fit(Xtr,Ytr)\n",
    "    Ypred_train = regr.predict(Xtr)\n",
    "    Ypred_test = regr.predict(Xts)\n",
    "    rsq_tr[count] = r2_score(Ytr, Ypred_train)\n",
    "    rsq_ts[count] = r2_score(Yts, Ypred_test)\n",
    "    print(\"r2_score test of {} th value = {}\" .format(count, rsq_ts[count]))"
   ]
  },
  {
   "cell_type": "markdown",
   "metadata": {},
   "source": [
    "Plot the test `R^2` vs. `alpha`.  And print the maximum test `R^2`.  You should see that the maximum test `R^2` is still not very high."
   ]
  },
  {
   "cell_type": "code",
   "execution_count": 18,
   "metadata": {},
   "outputs": [
    {
     "name": "stdout",
     "output_type": "stream",
     "text": [
      "max of rs Square =  0.21878161757104356\n"
     ]
    },
    {
     "data": {
      "image/png": "[encoded data removed]",
      "text/plain": [
       "<matplotlib.figure.Figure at 0x2168c738978>"
      ]
     },
     "metadata": {},
     "output_type": "display_data"
    }
   ],
   "source": [
    "# TODO\n",
    "alpha1 = np.arange(0,20)\n",
    "plt.plot(alpha1, rsq_ts)\n",
    "plt.show\n",
    "print(\"max of rs Square = \", max(rsq_ts))"
   ]
  },
  {
   "cell_type": "markdown",
   "metadata": {},
   "source": [
    "Now, let's take a look at the solution. \n",
    "\n",
    "* Find the optimal regularization `alpha` from the cross-validation\n",
    "* Re-fit the model at the optimal `alpha`\n",
    "* Get the current matrix `W` from the coefficients in the linear model.  These are stored in `regr.coef_`.  You may need a transpose\n",
    "* For each current `j` compute `Wrms[j] =  sqrt( sum_k W[j,k]**2 )` which is root mean squared current.\n",
    "\n",
    "You will see that the vector `Wrms` is not sparse.  This means that the solution that is found with Ridge regression finds currents in all locations."
   ]
  },
  {
   "cell_type": "code",
   "execution_count": 19,
   "metadata": {},
   "outputs": [
    {
     "name": "stdout",
     "output_type": "stream",
     "text": [
      "optimal alpha =  8\n",
      "W =  (85, 22494)\n",
      "W transpose =  [   85 22494]\n"
     ]
    },
    {
     "data": {
      "text/plain": [
       "'\\nfor j in range([0,W_transpose.shape[1]]):\\n    Wrms[j] = math.sqrt(sum(W_transpose[j,:] ** 2))\\nprint(\"Wrms = \", Wrms)'"
      ]
     },
     "execution_count": 19,
     "metadata": {},
     "output_type": "execute_result"
    }
   ],
   "source": [
    "# TODO\n",
    "import math\n",
    "\n",
    "alpha_optimal = np.argmax(rsq_ts)\n",
    "print(\"optimal alpha = \", alpha_optimal)\n",
    "regr = Ridge(alpha = 7)\n",
    "regr.fit(Xtr,Ytr)\n",
    "W = regr.coef_.shape\n",
    "print(\"W = \", W)\n",
    "W_transpose = np.transpose(W)\n",
    "print(\"W transpose = \", W_transpose)\n"
   ]
  },
  {
   "cell_type": "markdown",
   "metadata": {},
   "source": [
    "## LASSO Regression\n",
    "\n",
    "We can improve the estimate by imposing sparsity.  Biologically, we know that only a limited number of brain regions should be involved in the reponse to a particular stimuli.  As a result, we would expect that the current matrix `W[j,k]` to be zero for most values `j,k`.  We can impose this constraint using LASSO regularization.\n",
    "\n",
    "Re-fit the training data using the `Lasso` model with `alpha=1e-3`.  Also set `max_iter=100` and `tol=0.01`.  The LASSO solver is much slower, so this make take a minute."
   ]
  },
  {
   "cell_type": "code",
   "execution_count": 20,
   "metadata": {},
   "outputs": [
    {
     "data": {
      "text/plain": [
       "Lasso(alpha=0.001, copy_X=True, fit_intercept=True, max_iter=100,\n",
       "   normalize=False, positive=False, precompute=False, random_state=None,\n",
       "   selection='cyclic', tol=0.01, warm_start=False)"
      ]
     },
     "execution_count": 20,
     "metadata": {},
     "output_type": "execute_result"
    }
   ],
   "source": [
    "# TODO\n",
    "regr1 = Lasso(alpha = 1e-3, max_iter = 100, tol = 0.01)\n",
    "regr1.fit(Xtr,Ytr)"
   ]
  },
  {
   "cell_type": "markdown",
   "metadata": {},
   "source": [
    "Now, test the model on the test data and measure the `R^2` value.  You should get a much better fit than with the Ridge regression solution.  "
   ]
  },
  {
   "cell_type": "code",
   "execution_count": 25,
   "metadata": {},
   "outputs": [
    {
     "name": "stdout",
     "output_type": "stream",
     "text": [
      "R^2 Lasso =  -0.012632633221696393\n"
     ]
    }
   ],
   "source": [
    "# TODO\n",
    "Ypred_Lasso = regr1.predict(Xts)\n",
    "rsq_Lasso = r2_score(Yts, Ypred_Lasso)\n",
    "print(\"R^2 Lasso = \", rsq_Lasso)"
   ]
  },
  {
   "cell_type": "markdown",
   "metadata": {},
   "source": [
    "We can now search for the optimal `alpha`.  Use cross-validation to find the `alpha` logarithically space between `alpha=10^{-3}` and `alpha=10^{-4}`.  Each fit takes some time, so use only 5 values of `alpha`. Also for each `alpha` store the current matrix.  This way, you will not have to re-fit the model."
   ]
  },
  {
   "cell_type": "code",
   "execution_count": 27,
   "metadata": {},
   "outputs": [
    {
     "name": "stdout",
     "output_type": "stream",
     "text": [
      "values =  [1.00000000e-03 3.16227766e-02 1.00000000e+00 3.16227766e+01\n",
      " 1.00000000e+03]\n",
      "i =  0\n",
      "r2_score test of 0 th value = 0.18525843240332354\n",
      "i =  1\n",
      "r2_score test of 1 th value = -0.012632633221696393\n",
      "i =  2\n",
      "r2_score test of 2 th value = -0.012632633221696393\n",
      "i =  3\n",
      "r2_score test of 3 th value = -0.012632633221696393\n",
      "i =  4\n",
      "r2_score test of 4 th value = -0.012632633221696393\n"
     ]
    }
   ],
   "source": [
    "# TODO\n",
    "values_Lasso = np.logspace(start = -3, stop = 3, base = 10, num = 5)\n",
    "print(\"values = \", values_Lasso)\n",
    "rsq_tr_Lasso = np.zeros(5)\n",
    "rsq_ts_Lasso = np.zeros(5)\n",
    "W_Lasso = np.zeros((5,85,22494))\n",
    "for count,i in enumerate(values_Lasso):\n",
    "    print(\"i = \", count)\n",
    "    regr1 = Lasso(alpha = i)\n",
    "    regr1.fit(Xtr,Ytr)\n",
    "    W_Lasso[count,:,:] = regr1.coef_\n",
    "    Ypred_train_Lasso = regr1.predict(Xtr)\n",
    "    Ypred_test_Lasso = regr1.predict(Xts)\n",
    "    rsq_tr_Lasso[count] = r2_score(Ytr, Ypred_train_Lasso)\n",
    "    rsq_ts_Lasso[count] = r2_score(Yts, Ypred_test_Lasso)\n",
    "    print(\"r2_score test of {} th value = {}\" .format(count, rsq_ts_Lasso[count]))"
   ]
  },
  {
   "cell_type": "markdown",
   "metadata": {},
   "source": [
    "Plot the `r^2` value vs. `alpha`.  Print the optimal `r^2`.  You should see it is much higher than with the best Ridge Regression case."
   ]
  },
  {
   "cell_type": "code",
   "execution_count": 23,
   "metadata": {},
   "outputs": [
    {
     "data": {
      "text/plain": [
       "<function matplotlib.pyplot.show>"
      ]
     },
     "execution_count": 23,
     "metadata": {},
     "output_type": "execute_result"
    },
    {
     "data": {
      "image/png": "[encoded data removed]",
      "text/plain": [
       "<matplotlib.figure.Figure at 0x21689415fd0>"
      ]
     },
     "metadata": {},
     "output_type": "display_data"
    }
   ],
   "source": [
    "# TODO\n",
    "alpha_Lasso = np.arange(0,5)\n",
    "plt.plot(alpha_Lasso, rsq_ts_Lasso)\n",
    "plt.show"
   ]
  },
  {
   "cell_type": "markdown",
   "metadata": {},
   "source": [
    "Display the current matrix `W` for the optimal `alpha` as you did in the Ridge Regression case.  You will see that is much sparser."
   ]
  },
  {
   "cell_type": "code",
   "execution_count": 24,
   "metadata": {},
   "outputs": [
    {
     "name": "stdout",
     "output_type": "stream",
     "text": [
      "current matrix W =  [[ 0. -0. -0. ...  0. -0. -0.]\n",
      " [ 0. -0. -0. ...  0. -0. -0.]\n",
      " [ 0. -0. -0. ...  0. -0. -0.]\n",
      " ...\n",
      " [ 0. -0. -0. ...  0. -0. -0.]\n",
      " [ 0. -0. -0. ...  0. -0. -0.]\n",
      " [ 0. -0. -0. ...  0. -0. -0.]]\n"
     ]
    }
   ],
   "source": [
    "# TODO\n",
    "print(\"current matrix W = \", W_Lasso[0,:,:])"
   ]
  }
 ],
 "metadata": {
  "kernelspec": {
   "display_name": "Python 3",
   "language": "python",
   "name": "python3"
  },
  "language_info": {
   "codemirror_mode": {
    "name": "ipython",
    "version": 3
   },
   "file_extension": ".py",
   "mimetype": "text/x-python",
   "name": "python",
   "nbconvert_exporter": "python",
   "pygments_lexer": "ipython3",
   "version": "3.6.4"
  }
 },
 "nbformat": 4,
 "nbformat_minor": 2
}
