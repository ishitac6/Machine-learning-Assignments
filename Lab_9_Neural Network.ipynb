{
 "cells": [
  {
   "cell_type": "markdown",
   "metadata": {},
   "source": [
    "# Lab:  Neural Networks for Music Classification\n",
    "\n",
    "In addition to the concepts in the [MNIST neural network demo](./demo2_mnist_neural.ipynb), in this lab, you will learn to:\n",
    "* Load a file from a URL\n",
    "* Extract simple features from audio samples for machine learning tasks such as speech recognition and classification\n",
    "* Build a simple neural network for music classification using these features\n",
    "* Use a callback to store the loss and accuracy history in the training process\n",
    "* Optimize the learning rate of the neural network\n",
    "\n",
    "To illustrate the basic concepts, we will look at a relatively simple music classification problem.  Given a sample of music, we want to determine which instrument (e.g. trumpet, violin, piano) is playing.  This dataset was generously supplied by [Prof. Juan Bello](http://steinhardt.nyu.edu/faculty/Juan_Pablo_Bello) at NYU Stenihardt  and his former PhD student Eric Humphrey (now at Spotify).  They have a complete website dedicated to deep learning methods in music informatics:\n",
    "\n",
    "http://marl.smusic.nyu.edu/wordpress/projects/feature-learning-deep-architectures/deep-learning-python-tutorial/\n",
    "\n",
    "You can also check out Juan's <a href=\"http://www.nyu.edu/classes/bello/ACA.html\">course</a>.\n",
    "\n"
   ]
  },
  {
   "cell_type": "markdown",
   "metadata": {},
   "source": [
    "## Loading Tensorflow\n",
    "\n",
    "Before starting this lab, you will need to install [Tensorflow](https://www.tensorflow.org/install/).  If you are using [Google colaboratory](https://colab.research.google.com), Tensorflow is already installed.  Run the following command to ensure Tensorflow is installed."
   ]
  },
  {
   "cell_type": "markdown",
   "metadata": {},
   "source": [
    "Then, load the other packages."
   ]
  },
  {
   "cell_type": "code",
   "execution_count": null,
   "metadata": {},
   "outputs": [],
   "source": [
    "import tensorflow as tf"
   ]
  },
  {
   "cell_type": "code",
   "execution_count": 2,
   "metadata": {},
   "outputs": [],
   "source": [
    "import numpy as np\n",
    "import matplotlib\n",
    "import matplotlib.pyplot as plt\n",
    "%matplotlib inline"
   ]
  },
  {
   "cell_type": "markdown",
   "metadata": {},
   "source": [
    "## Audio Feature Extraction with Librosa\n",
    "\n",
    "The key to audio classification is to extract the correct features. In addition to `keras`, we will need the `librosa` package.  The `librosa` package in python has a rich set of methods extracting the features of audio samples commonly used in machine learning tasks such as speech recognition and sound classification. \n",
    "\n",
    "Installation instructions and complete documentation for the package are given on the [librosa main page](https://librosa.github.io/librosa/).  On most systems, you should be able to simply use:\n",
    "\n",
    "    pip install -u librosa\n",
    "    \n",
    "For Unix, you may need to load some additional packages:\n",
    "\n",
    "    sudo apt-get install build-essential\n",
    "    sudo apt-get install libxext-dev python-qt4 qt4-dev-tools\n",
    "    pip install librosa\n",
    "    \n",
    "After you have installed the package, try to import it."
   ]
  },
  {
   "cell_type": "code",
   "execution_count": 3,
   "metadata": {},
   "outputs": [],
   "source": [
    "import librosa\n",
    "import librosa.display\n",
    "import librosa.feature"
   ]
  },
  {
   "cell_type": "markdown",
   "metadata": {},
   "source": [
    "In this lab, we will use a set of music samples from the website:\n",
    "\n",
    "http://theremin.music.uiowa.edu\n",
    "\n",
    "This website has a great set of samples for audio processing.  Look on the web for how to use the `requests.get` and `file.write` commands to load the file at the URL provided into your working directory.\n",
    "\n",
    "You can play the audio sample by copying the file to your local machine and playing it on any media player.  If you listen to it you will hear a soprano saxaphone (with vibrato) playing four notes (C, C#, D, Eb)."
   ]
  },
  {
   "cell_type": "code",
   "execution_count": 6,
   "metadata": {},
   "outputs": [],
   "source": [
    "import requests\n",
    "fn = \"SopSax.Vib.pp.C6Eb6.aiff\"\n",
    "url = \"http://theremin.music.uiowa.edu/sound files/MIS/Woodwinds/sopranosaxophone/\"+fn\n",
    "\n",
    "# TODO:  Load the file from url and save it in a file under the name fn\n",
    "\n",
    "r = requests.get(url)  \n",
    "with open('/Users/Rachana/Desktop/introml-master/unit09_neural/SopSax.Vib.pp.C6Eb6.aiff', 'wb') as file:\n",
    "    file.write(r.content)"
   ]
  },
  {
   "cell_type": "code",
   "execution_count": 7,
   "metadata": {},
   "outputs": [],
   "source": [
    "# TODO\n",
    "# y, sr = ...\n",
    "y, sr = librosa.load(fn)"
   ]
  },
  {
   "cell_type": "markdown",
   "metadata": {},
   "source": [
    "Extracting features from audio files is an entire subject on its own right.  A commonly used set of features are called the Mel Frequency Cepstral Coefficients (MFCCs).  These are derived from the so-called mel spectrogram which is something like a regular spectrogram, but the power and frequency are represented in log scale, which more naturally aligns with human perceptual processing.  You can run the code below to display the mel spectrogram from the audio sample.\n",
    "\n",
    "You can easily see the four notes played in the audio track.  You also see the 'harmonics' of each notes, which are other tones at integer multiples of the fundamental frequency of each note."
   ]
  },
  {
   "cell_type": "code",
   "execution_count": 8,
   "metadata": {},
   "outputs": [
    {
     "data": {
      "image/png": "[encoded data removed]",
      "text/plain": [
       "<Figure size 432x288 with 2 Axes>"
      ]
     },
     "metadata": {},
     "output_type": "display_data"
    }
   ],
   "source": [
    "S = librosa.feature.melspectrogram(y=y, sr=sr, n_mels=128, fmax=8000)\n",
    "librosa.display.specshow(librosa.amplitude_to_db(S),\n",
    "                         y_axis='mel', fmax=8000, x_axis='time')\n",
    "plt.colorbar(format='%+2.0f dB')\n",
    "plt.title('Mel spectrogram')\n",
    "plt.tight_layout()"
   ]
  },
  {
   "cell_type": "markdown",
   "metadata": {},
   "source": [
    "## Downloading the Data\n",
    "\n",
    "Using the MFCC features described above, Eric Humphrey and Juan Bellow have created a complete data set that can used for instrument classification.  Essentially, they collected a number of data files from the website above.  For each audio file, the segmented the track into notes and then extracted 120 MFCCs for each note.  The goal is to recognize the instrument from the 120 MFCCs.  The process of feature extraction is quite involved.  So, we will just use their processed data provided at:\n",
    "\n",
    "https://github.com/marl/dl4mir-tutorial/blob/master/README.md\n",
    "\n",
    "Note the password.  Load the four files into some directory, say  `instrument_dataset`.  Then, load them with the commands."
   ]
  },
  {
   "cell_type": "code",
   "execution_count": 9,
   "metadata": {},
   "outputs": [],
   "source": [
    "data_dir = 'instrument_dataset/'\n",
    "xtr = np.load(data_dir+'uiowa_train_data.npy')\n",
    "ytr = np.load(data_dir+'uiowa_train_labels.npy')\n",
    "xts = np.load(data_dir+'uiowa_test_data.npy')\n",
    "yts = np.load(data_dir+'uiowa_test_labels.npy')"
   ]
  },
  {
   "cell_type": "markdown",
   "metadata": {},
   "source": [
    "Looking at the data files:\n",
    "* What are the number of training and test samples?\n",
    "* What is the number of features for each sample?\n",
    "* How many classes (i.e. instruments) are there per class?\n"
   ]
  },
  {
   "cell_type": "code",
   "execution_count": 10,
   "metadata": {},
   "outputs": [
    {
     "data": {
      "text/plain": [
       "(66247, 120)"
      ]
     },
     "execution_count": 10,
     "metadata": {},
     "output_type": "execute_result"
    }
   ],
   "source": [
    "# TODO\n",
    "xtr.shape"
   ]
  },
  {
   "cell_type": "code",
   "execution_count": 11,
   "metadata": {},
   "outputs": [
    {
     "data": {
      "text/plain": [
       "(14904, 120)"
      ]
     },
     "execution_count": 11,
     "metadata": {},
     "output_type": "execute_result"
    }
   ],
   "source": [
    "xts.shape"
   ]
  },
  {
   "cell_type": "code",
   "execution_count": 12,
   "metadata": {},
   "outputs": [
    {
     "name": "stdout",
     "output_type": "stream",
     "text": [
      "Number of instruments per class:  10\n"
     ]
    }
   ],
   "source": [
    "nc = np.unique(ytr)\n",
    "print('Number of instruments per class: ', len(nc))"
   ]
  },
  {
   "cell_type": "code",
   "execution_count": 13,
   "metadata": {},
   "outputs": [
    {
     "name": "stdout",
     "output_type": "stream",
     "text": [
      "Number of training samples are:  66247\n",
      "Number of test samples are:  14904\n",
      "Number of features for each samples are:  120\n"
     ]
    }
   ],
   "source": [
    "n_tr = xtr.shape[0]\n",
    "n_ts = xts.shape[0]\n",
    "nfeature = xtr.shape[1]\n",
    "print('Number of training samples are: ', n_tr)\n",
    "print('Number of test samples are: ', n_ts)\n",
    "print('Number of features for each samples are: ', nfeature)"
   ]
  },
  {
   "cell_type": "markdown",
   "metadata": {},
   "source": [
    "Before continuing, you must scale the training and test data, `Xtr` and `Xts`.  Compute the mean and std deviation of each feature in `Xtr` and create a new training data set, `Xtr_scale`, by subtracting the mean and dividing by the std deviation.  Also compute a scaled test data set, `Xts_scale` using the mean and std deviation learned from the training data set."
   ]
  },
  {
   "cell_type": "code",
   "execution_count": 14,
   "metadata": {},
   "outputs": [],
   "source": [
    "\n",
    "xtr_scale = [n_tr,nfeature]\n",
    "xts_scale = [n_ts,nfeature]\n",
    "\n",
    "xtr_mean = np.mean(xtr, axis=0)\n",
    "xtr_std = np.std(xtr, axis=0)\n",
    "xtr_scale = (xtr - xtr_mean[None,:])/xtr_std[None,:]\n",
    "\n",
    "xts_mean = np.mean(xts, axis=0)\n",
    "xts_std = np.std(xts, axis=0)\n",
    "xts_scale = (xts - xts_mean[None,:])/xts_std[None,:]\n"
   ]
  },
  {
   "cell_type": "markdown",
   "metadata": {
    "collapsed": true
   },
   "source": [
    "## Building a Neural Network Classifier\n",
    "\n",
    "Following the example in [MNIST neural network demo](./mnist_neural.ipynb), clear the keras session.  Then, create a neural network `model` with:\n",
    "* `nh=256` hidden units\n",
    "* `sigmoid` activation\n",
    "* select the input and output shapes correctly\n",
    "* print the model summary"
   ]
  },
  {
   "cell_type": "code",
   "execution_count": 15,
   "metadata": {},
   "outputs": [],
   "source": [
    "from tensorflow.keras.models import Model, Sequential\n",
    "from tensorflow.keras.layers import Dense, Activation\n",
    "import tensorflow.keras.backend as K\n"
   ]
  },
  {
   "cell_type": "code",
   "execution_count": 16,
   "metadata": {},
   "outputs": [],
   "source": [
    "# TODO clear session\n",
    "K.clear_session()"
   ]
  },
  {
   "cell_type": "code",
   "execution_count": 17,
   "metadata": {},
   "outputs": [
    {
     "name": "stderr",
     "output_type": "stream",
     "text": [
      "WARNING: Logging before flag parsing goes to stderr.\n",
      "W0409 22:27:46.901653 4603262400 deprecation.py:506] From /anaconda3/lib/python3.6/site-packages/tensorflow/python/ops/init_ops.py:1257: calling VarianceScaling.__init__ (from tensorflow.python.ops.init_ops) with dtype is deprecated and will be removed in a future version.\n",
      "Instructions for updating:\n",
      "Call initializer instance with the dtype argument instead of passing it to the constructor\n"
     ]
    }
   ],
   "source": [
    "# TODO: construct the model\n",
    "n_in = Xtr.shape[1]  # dimension of input data\n",
    "nh = 256     # number of hidden units\n",
    "nout = int(np.max(ytr)+1)    # number of outputs = 10 since there are 10 classes\n",
    "model = Sequential()\n",
    "model.add(Dense(nh, input_shape=(n_in,), activation='sigmoid', name='hidden'))\n",
    "model.add(Dense(nout, activation='softmax', name='output'))"
   ]
  },
  {
   "cell_type": "code",
   "execution_count": 18,
   "metadata": {},
   "outputs": [
    {
     "name": "stdout",
     "output_type": "stream",
     "text": [
      "Model: \"sequential\"\n",
      "_________________________________________________________________\n",
      "Layer (type)                 Output Shape              Param #   \n",
      "=================================================================\n",
      "hidden (Dense)               (None, 256)               30976     \n",
      "_________________________________________________________________\n",
      "output (Dense)               (None, 10)                2570      \n",
      "=================================================================\n",
      "Total params: 33,546\n",
      "Trainable params: 33,546\n",
      "Non-trainable params: 0\n",
      "_________________________________________________________________\n"
     ]
    }
   ],
   "source": [
    "# TODO:  Print the model summary\n",
    "model.summary()"
   ]
  },
  {
   "cell_type": "markdown",
   "metadata": {},
   "source": [
    "Create an optimizer and compile the model.  Select the appropriate loss function and metrics.  For the optimizer, use the Adam optimizer with a learning rate of 0.001"
   ]
  },
  {
   "cell_type": "code",
   "execution_count": 21,
   "metadata": {
    "scrolled": true
   },
   "outputs": [],
   "source": [
    "\n",
    "from tensorflow.keras import optimizers\n",
    "opt = optimizers.Adam(lr=0.001) # beta_1=0.9, beta_2=0.999, epsilon=1e-08, decay=0.0)\n",
    "model.compile(optimizer=opt,\n",
    "              loss='sparse_categorical_crossentropy',\n",
    "              metrics=['accuracy'])"
   ]
  },
  {
   "cell_type": "markdown",
   "metadata": {},
   "source": [
    "Fit the model for 10 epochs using the scaled data for both the training and validation.  Use the `validation_data` option to pass the test data.  Also, pass the callback class create above.  Use a batch size of 100.  Your final accuracy should be >99%."
   ]
  },
  {
   "cell_type": "code",
   "execution_count": 22,
   "metadata": {
    "scrolled": true
   },
   "outputs": [
    {
     "name": "stdout",
     "output_type": "stream",
     "text": [
      "Train on 66247 samples, validate on 14904 samples\n",
      "Epoch 1/10\n",
      "66247/66247 [==============================] - 2s 34us/sample - loss: 0.3622 - acc: 0.9010 - val_loss: 0.1889 - val_acc: 0.9516\n",
      "Epoch 2/10\n",
      "66247/66247 [==============================] - 2s 36us/sample - loss: 0.1024 - acc: 0.9762 - val_loss: 0.1402 - val_acc: 0.9530\n",
      "Epoch 3/10\n",
      "66247/66247 [==============================] - 2s 32us/sample - loss: 0.0605 - acc: 0.9854 - val_loss: 0.1220 - val_acc: 0.9546\n",
      "Epoch 4/10\n",
      "66247/66247 [==============================] - 2s 25us/sample - loss: 0.0421 - acc: 0.9897 - val_loss: 0.1049 - val_acc: 0.9621\n",
      "Epoch 5/10\n",
      "66247/66247 [==============================] - 2s 31us/sample - loss: 0.0323 - acc: 0.9916 - val_loss: 0.1248 - val_acc: 0.9510\n",
      "Epoch 6/10\n",
      "66247/66247 [==============================] - 2s 30us/sample - loss: 0.0253 - acc: 0.9935 - val_loss: 0.1021 - val_acc: 0.9630\n",
      "Epoch 7/10\n",
      "66247/66247 [==============================] - 2s 25us/sample - loss: 0.0209 - acc: 0.9948 - val_loss: 0.1150 - val_acc: 0.9575\n",
      "Epoch 8/10\n",
      "66247/66247 [==============================] - 2s 23us/sample - loss: 0.0175 - acc: 0.9957 - val_loss: 0.1413 - val_acc: 0.9461\n",
      "Epoch 9/10\n",
      "66247/66247 [==============================] - 2s 25us/sample - loss: 0.0150 - acc: 0.9962 - val_loss: 0.1472 - val_acc: 0.9465\n",
      "Epoch 10/10\n",
      "66247/66247 [==============================] - 2s 25us/sample - loss: 0.0129 - acc: 0.9968 - val_loss: 0.2115 - val_acc: 0.9284\n"
     ]
    }
   ],
   "source": [
    "# TODO\n",
    "hist = model.fit(xtr_scale, ytr, epochs=10, batch_size=100, validation_data=(xts_scale,yts))"
   ]
  },
  {
   "cell_type": "markdown",
   "metadata": {},
   "source": [
    "Plot the validation accuracy saved in `hist.history` dictionary. This gives one accuracy value per epoch.  You should see that the validation accuracy saturates at a little higher than 99%.  After that it \"bounces around\" due to the noise in the stochastic gradient descent."
   ]
  },
  {
   "cell_type": "code",
   "execution_count": 25,
   "metadata": {},
   "outputs": [
    {
     "data": {
      "image/png": "[encoded data removed]",
      "text/plain": [
       "<Figure size 432x288 with 1 Axes>"
      ]
     },
     "metadata": {},
     "output_type": "display_data"
    }
   ],
   "source": [
    "# TODO\n",
    "tr_accuracy = hist.history['acc']\n",
    "val_accuracy = hist.history['val_acc']\n",
    "loss_epoch = hist.history['loss']\n",
    "val_loss_epoch = hist.history['val_loss']\n",
    "\n",
    "plt.plot(tr_accuracy)\n",
    "plt.plot(val_accuracy)\n",
    "plt.grid()\n",
    "plt.xlabel('epochs')\n",
    "plt.ylabel('accuarcy')\n",
    "plt.legend(['training accuracy', 'validation accuracy'])\n",
    "plt.tight_layout()\n",
    "plt.show()"
   ]
  },
  {
   "cell_type": "markdown",
   "metadata": {},
   "source": [
    "Plot the loss values saved in the `hist.history` dictionary.  You should see that the loss is steadily decreasing.  Use the `semilogy` plot."
   ]
  },
  {
   "cell_type": "code",
   "execution_count": 26,
   "metadata": {},
   "outputs": [
    {
     "data": {
      "text/plain": [
       "Text(0,0.5,'loss')"
      ]
     },
     "execution_count": 26,
     "metadata": {},
     "output_type": "execute_result"
    },
    {
     "data": {
      "image/png": "[encoded data removed]",
      "text/plain": [
       "<Figure size 432x288 with 1 Axes>"
      ]
     },
     "metadata": {},
     "output_type": "display_data"
    }
   ],
   "source": [
    "# TODO\n",
    "plt.semilogy(loss_epoch)\n",
    "plt.semilogy(val_loss_epoch)\n",
    "plt.grid()\n",
    "plt.xlabel('epochs')\n",
    "plt.ylabel('loss')\n"
   ]
  },
  {
   "cell_type": "markdown",
   "metadata": {},
   "source": [
    "## Optimizing the Learning Rate\n",
    "\n",
    "One challenge in training neural networks is the selection of the learning rate.  Rerun the above code, trying four learning rates as shown in the vector `rates`.  For each learning rate:\n",
    "* clear the session\n",
    "* construct the network\n",
    "* select the optimizer.  Use the Adam optimizer with the appropriate learrning rate.\n",
    "* train the model for 20 epochs\n",
    "* save the accuracy and losses"
   ]
  },
  {
   "cell_type": "code",
   "execution_count": 27,
   "metadata": {},
   "outputs": [
    {
     "name": "stdout",
     "output_type": "stream",
     "text": [
      "Train on 66247 samples, validate on 14904 samples\n",
      "Epoch 1/10\n",
      "66247/66247 [==============================] - 2s 23us/sample - loss: 0.1043 - acc: 0.9679 - val_loss: 0.0971 - val_acc: 0.9678\n",
      "Epoch 2/10\n",
      "66247/66247 [==============================] - 2s 24us/sample - loss: 0.0273 - acc: 0.9914 - val_loss: 0.2668 - val_acc: 0.9166\n",
      "Epoch 3/10\n",
      "66247/66247 [==============================] - 1s 21us/sample - loss: 0.0205 - acc: 0.9936 - val_loss: 0.2272 - val_acc: 0.9373\n",
      "Epoch 4/10\n",
      "66247/66247 [==============================] - 1s 21us/sample - loss: 0.0192 - acc: 0.9937 - val_loss: 0.3287 - val_acc: 0.9264\n",
      "Epoch 5/10\n",
      "66247/66247 [==============================] - 1s 22us/sample - loss: 0.0161 - acc: 0.9945 - val_loss: 0.3537 - val_acc: 0.9246\n",
      "Epoch 6/10\n",
      "66247/66247 [==============================] - 2s 25us/sample - loss: 0.0120 - acc: 0.9962 - val_loss: 0.4904 - val_acc: 0.9114\n",
      "Epoch 7/10\n",
      "66247/66247 [==============================] - 2s 23us/sample - loss: 0.0143 - acc: 0.9955 - val_loss: 0.7151 - val_acc: 0.8933\n",
      "Epoch 8/10\n",
      "66247/66247 [==============================] - 1s 18us/sample - loss: 0.0137 - acc: 0.9955 - val_loss: 0.3695 - val_acc: 0.9236\n",
      "Epoch 9/10\n",
      "66247/66247 [==============================] - 1s 16us/sample - loss: 0.0113 - acc: 0.9969 - val_loss: 0.7468 - val_acc: 0.8890\n",
      "Epoch 10/10\n",
      "66247/66247 [==============================] - 1s 18us/sample - loss: 0.0133 - acc: 0.9959 - val_loss: 0.8643 - val_acc: 0.8837\n",
      "Train on 66247 samples, validate on 14904 samples\n",
      "Epoch 1/10\n",
      "66247/66247 [==============================] - 2s 25us/sample - loss: 0.3644 - acc: 0.9004 - val_loss: 0.1871 - val_acc: 0.9530\n",
      "Epoch 2/10\n",
      "66247/66247 [==============================] - 1s 21us/sample - loss: 0.1046 - acc: 0.9750 - val_loss: 0.1548 - val_acc: 0.9472\n",
      "Epoch 3/10\n",
      "66247/66247 [==============================] - 2s 27us/sample - loss: 0.0612 - acc: 0.9854 - val_loss: 0.1360 - val_acc: 0.9515\n",
      "Epoch 4/10\n",
      "66247/66247 [==============================] - 1s 19us/sample - loss: 0.0428 - acc: 0.9898 - val_loss: 0.1209 - val_acc: 0.9566\n",
      "Epoch 5/10\n",
      "66247/66247 [==============================] - 1s 21us/sample - loss: 0.0323 - acc: 0.9918 - val_loss: 0.1308 - val_acc: 0.9502\n",
      "Epoch 6/10\n",
      "66247/66247 [==============================] - 1s 22us/sample - loss: 0.0254 - acc: 0.9934 - val_loss: 0.1413 - val_acc: 0.9459\n",
      "Epoch 7/10\n",
      "66247/66247 [==============================] - 2s 25us/sample - loss: 0.0209 - acc: 0.9944 - val_loss: 0.1316 - val_acc: 0.9504\n",
      "Epoch 8/10\n",
      "66247/66247 [==============================] - 1s 22us/sample - loss: 0.0173 - acc: 0.9955 - val_loss: 0.1314 - val_acc: 0.9522\n",
      "Epoch 9/10\n",
      "66247/66247 [==============================] - 2s 30us/sample - loss: 0.0149 - acc: 0.9963 - val_loss: 0.1857 - val_acc: 0.9339\n",
      "Epoch 10/10\n",
      "66247/66247 [==============================] - 2s 26us/sample - loss: 0.0131 - acc: 0.9967 - val_loss: 0.1634 - val_acc: 0.9412\n",
      "Train on 66247 samples, validate on 14904 samples\n",
      "Epoch 1/10\n",
      "66247/66247 [==============================] - 2s 28us/sample - loss: 1.1335 - acc: 0.6465 - val_loss: 0.7878 - val_acc: 0.7438\n",
      "Epoch 2/10\n",
      "66247/66247 [==============================] - 2s 24us/sample - loss: 0.5523 - acc: 0.8450 - val_loss: 0.5178 - val_acc: 0.8676\n",
      "Epoch 3/10\n",
      "66247/66247 [==============================] - 2s 27us/sample - loss: 0.3812 - acc: 0.9096 - val_loss: 0.3898 - val_acc: 0.9102\n",
      "Epoch 4/10\n",
      "66247/66247 [==============================] - 2s 25us/sample - loss: 0.2943 - acc: 0.9329 - val_loss: 0.3129 - val_acc: 0.9374\n",
      "Epoch 5/10\n",
      "66247/66247 [==============================] - 2s 29us/sample - loss: 0.2392 - acc: 0.9459 - val_loss: 0.2654 - val_acc: 0.9458\n",
      "Epoch 6/10\n",
      "66247/66247 [==============================] - 1s 19us/sample - loss: 0.1999 - acc: 0.9540 - val_loss: 0.2283 - val_acc: 0.9507\n",
      "Epoch 7/10\n",
      "66247/66247 [==============================] - 1s 17us/sample - loss: 0.1700 - acc: 0.9608 - val_loss: 0.2049 - val_acc: 0.9509\n",
      "Epoch 8/10\n",
      "66247/66247 [==============================] - 1s 17us/sample - loss: 0.1465 - acc: 0.9653 - val_loss: 0.1842 - val_acc: 0.9532\n",
      "Epoch 9/10\n",
      "66247/66247 [==============================] - 1s 18us/sample - loss: 0.1275 - acc: 0.9697 - val_loss: 0.1659 - val_acc: 0.9558\n",
      "Epoch 10/10\n",
      "66247/66247 [==============================] - 2s 27us/sample - loss: 0.1120 - acc: 0.9733 - val_loss: 0.1639 - val_acc: 0.9522\n"
     ]
    }
   ],
   "source": [
    "rates = [0.01,0.001,0.0001]\n",
    "batch_size = 100\n",
    "loss_hist = []\n",
    "train_acc = []\n",
    "validation_acc = []\n",
    "\n",
    "n = len(rates)\n",
    "for i in range(n):\n",
    "    #clear the session\n",
    "    K.clear_session()\n",
    "    #construct the network\n",
    "    n_in = xtr.shape[1]  # dimension of input data\n",
    "    nh = 256     # number of hidden units\n",
    "    nout = int(np.max(ytr)+1)    # number of outputs = 10 since there are 10 classes\n",
    "    model = Sequential()\n",
    "    model.add(Dense(nh, input_shape=(n_in,), activation='sigmoid', name='hidden'))\n",
    "    model.add(Dense(nout, activation='softmax', name='output'))\n",
    "    #select the optimizer\n",
    "    opt = optimizers.Adam(lr=rates[i]) # beta_1=0.9, beta_2=0.999, epsilon=1e-08, decay=0.0)\n",
    "    model.compile(optimizer=opt,\n",
    "              loss='sparse_categorical_crossentropy',\n",
    "              metrics=['accuracy'])\n",
    "    #train the model\n",
    "    hist_i = model.fit(xtr_scale, ytr, epochs=10, batch_size=100, validation_data=(xts_scale,yts))\n",
    "    #save accuracy and losses\n",
    "    tr_accuracy = hist_i.history['acc']\n",
    "    val_accuracy = hist_i.history['val_acc']\n",
    "    loss_epoch = hist_i.history['loss']\n",
    "    loss_hist.append(loss_epoch)\n",
    "    train_acc.append(tr_accuracy)\n",
    "    validation_acc.append(val_accuracy)"
   ]
  },
  {
   "cell_type": "code",
   "execution_count": 29,
   "metadata": {},
   "outputs": [
    {
     "data": {
      "text/plain": [
       "Text(0,0.5,'loss')"
      ]
     },
     "execution_count": 29,
     "metadata": {},
     "output_type": "execute_result"
    },
    {
     "data": {
      "image/png": "[encoded data removed]",
      "text/plain": [
       "<Figure size 432x288 with 1 Axes>"
      ]
     },
     "metadata": {},
     "output_type": "display_data"
    }
   ],
   "source": [
    "for i in range(n):\n",
    "    plt.plot(loss_hist[i])\n",
    "    \n",
    "plt.legend(['learning rate = 0.01', 'learning rate = 0.001','learning rate = 0.0001'])\n",
    "plt.grid()\n",
    "plt.xlabel('epochs')\n",
    "plt.ylabel('loss')\n"
   ]
  },
  {
   "cell_type": "code",
   "execution_count": null,
   "metadata": {},
   "outputs": [],
   "source": []
  }
 ],
 "metadata": {
  "anaconda-cloud": {},
  "kernelspec": {
   "display_name": "Python 3",
   "language": "python",
   "name": "python3"
  },
  "language_info": {
   "codemirror_mode": {
    "name": "ipython",
    "version": 3
   },
   "file_extension": ".py",
   "mimetype": "text/x-python",
   "name": "python",
   "nbconvert_exporter": "python",
   "pygments_lexer": "ipython3",
   "version": "3.6.4"
  }
 },
 "nbformat": 4,
 "nbformat_minor": 1
}
